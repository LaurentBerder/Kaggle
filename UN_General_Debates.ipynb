{
 "cells": [
  {
   "cell_type": "markdown",
   "metadata": {},
   "source": [
    "# UN General Debates\n",
    "\n",
    "First of all, import packages and data"
   ]
  },
  {
   "cell_type": "code",
   "execution_count": 1,
   "metadata": {
    "collapsed": true,
    "scrolled": true
   },
   "outputs": [],
   "source": [
    "import pandas as pd\n",
    "import re\n",
    "import nltk\n",
    "from nltk.tokenize import word_tokenize, sent_tokenize, PunktSentenceTokenizer\n",
    "from nltk.corpus import stopwords\n",
    "from string import punctuation\n",
    "\n",
    "#to plot inside the document\n",
    "%matplotlib inline\n",
    "import matplotlib.pyplot as plt"
   ]
  },
  {
   "cell_type": "code",
   "execution_count": 2,
   "metadata": {
    "collapsed": true,
    "scrolled": true
   },
   "outputs": [],
   "source": [
    "debates = pd.read_csv(\"un-general-debates.zip\", compression='zip')"
   ]
  },
  {
   "cell_type": "markdown",
   "metadata": {},
   "source": [
    "## Description"
   ]
  },
  {
   "cell_type": "markdown",
   "metadata": {},
   "source": [
    "Have a first look at the data."
   ]
  },
  {
   "cell_type": "code",
   "execution_count": 3,
   "metadata": {
    "scrolled": true
   },
   "outputs": [
    {
     "data": {
      "text/html": [
       "<div>\n",
       "<table border=\"1\" class=\"dataframe\">\n",
       "  <thead>\n",
       "    <tr style=\"text-align: right;\">\n",
       "      <th></th>\n",
       "      <th>session</th>\n",
       "      <th>year</th>\n",
       "      <th>country</th>\n",
       "      <th>text</th>\n",
       "    </tr>\n",
       "  </thead>\n",
       "  <tbody>\n",
       "    <tr>\n",
       "      <th>0</th>\n",
       "      <td>44</td>\n",
       "      <td>1989</td>\n",
       "      <td>MDV</td>\n",
       "      <td>﻿It is indeed a pleasure for me and the member...</td>\n",
       "    </tr>\n",
       "    <tr>\n",
       "      <th>1</th>\n",
       "      <td>44</td>\n",
       "      <td>1989</td>\n",
       "      <td>FIN</td>\n",
       "      <td>﻿\\nMay I begin by congratulating you. Sir, on ...</td>\n",
       "    </tr>\n",
       "    <tr>\n",
       "      <th>2</th>\n",
       "      <td>44</td>\n",
       "      <td>1989</td>\n",
       "      <td>NER</td>\n",
       "      <td>﻿\\nMr. President, it is a particular pleasure ...</td>\n",
       "    </tr>\n",
       "    <tr>\n",
       "      <th>3</th>\n",
       "      <td>44</td>\n",
       "      <td>1989</td>\n",
       "      <td>URY</td>\n",
       "      <td>﻿\\nDuring the debate at the fortieth session o...</td>\n",
       "    </tr>\n",
       "    <tr>\n",
       "      <th>4</th>\n",
       "      <td>44</td>\n",
       "      <td>1989</td>\n",
       "      <td>ZWE</td>\n",
       "      <td>﻿I should like at the outset to express my del...</td>\n",
       "    </tr>\n",
       "  </tbody>\n",
       "</table>\n",
       "</div>"
      ],
      "text/plain": [
       "   session  year country                                               text\n",
       "0       44  1989     MDV  ﻿It is indeed a pleasure for me and the member...\n",
       "1       44  1989     FIN  ﻿\\nMay I begin by congratulating you. Sir, on ...\n",
       "2       44  1989     NER  ﻿\\nMr. President, it is a particular pleasure ...\n",
       "3       44  1989     URY  ﻿\\nDuring the debate at the fortieth session o...\n",
       "4       44  1989     ZWE  ﻿I should like at the outset to express my del..."
      ]
     },
     "execution_count": 3,
     "metadata": {},
     "output_type": "execute_result"
    }
   ],
   "source": [
    "debates.head()"
   ]
  },
  {
   "cell_type": "code",
   "execution_count": 4,
   "metadata": {
    "scrolled": true
   },
   "outputs": [
    {
     "data": {
      "text/html": [
       "<div>\n",
       "<table border=\"1\" class=\"dataframe\">\n",
       "  <thead>\n",
       "    <tr style=\"text-align: right;\">\n",
       "      <th></th>\n",
       "      <th>session</th>\n",
       "      <th>year</th>\n",
       "      <th>country</th>\n",
       "      <th>text</th>\n",
       "    </tr>\n",
       "  </thead>\n",
       "  <tbody>\n",
       "    <tr>\n",
       "      <th>count</th>\n",
       "      <td>7507.000000</td>\n",
       "      <td>7507.000000</td>\n",
       "      <td>7507</td>\n",
       "      <td>7507</td>\n",
       "    </tr>\n",
       "    <tr>\n",
       "      <th>unique</th>\n",
       "      <td>NaN</td>\n",
       "      <td>NaN</td>\n",
       "      <td>199</td>\n",
       "      <td>7507</td>\n",
       "    </tr>\n",
       "    <tr>\n",
       "      <th>top</th>\n",
       "      <td>NaN</td>\n",
       "      <td>NaN</td>\n",
       "      <td>NLD</td>\n",
       "      <td>﻿Mr. President, your\\nelection to preside over...</td>\n",
       "    </tr>\n",
       "    <tr>\n",
       "      <th>freq</th>\n",
       "      <td>NaN</td>\n",
       "      <td>NaN</td>\n",
       "      <td>46</td>\n",
       "      <td>1</td>\n",
       "    </tr>\n",
       "    <tr>\n",
       "      <th>mean</th>\n",
       "      <td>49.610763</td>\n",
       "      <td>1994.610763</td>\n",
       "      <td>NaN</td>\n",
       "      <td>NaN</td>\n",
       "    </tr>\n",
       "    <tr>\n",
       "      <th>std</th>\n",
       "      <td>12.892155</td>\n",
       "      <td>12.892155</td>\n",
       "      <td>NaN</td>\n",
       "      <td>NaN</td>\n",
       "    </tr>\n",
       "    <tr>\n",
       "      <th>min</th>\n",
       "      <td>25.000000</td>\n",
       "      <td>1970.000000</td>\n",
       "      <td>NaN</td>\n",
       "      <td>NaN</td>\n",
       "    </tr>\n",
       "    <tr>\n",
       "      <th>25%</th>\n",
       "      <td>39.000000</td>\n",
       "      <td>1984.000000</td>\n",
       "      <td>NaN</td>\n",
       "      <td>NaN</td>\n",
       "    </tr>\n",
       "    <tr>\n",
       "      <th>50%</th>\n",
       "      <td>51.000000</td>\n",
       "      <td>1996.000000</td>\n",
       "      <td>NaN</td>\n",
       "      <td>NaN</td>\n",
       "    </tr>\n",
       "    <tr>\n",
       "      <th>75%</th>\n",
       "      <td>61.000000</td>\n",
       "      <td>2006.000000</td>\n",
       "      <td>NaN</td>\n",
       "      <td>NaN</td>\n",
       "    </tr>\n",
       "    <tr>\n",
       "      <th>max</th>\n",
       "      <td>70.000000</td>\n",
       "      <td>2015.000000</td>\n",
       "      <td>NaN</td>\n",
       "      <td>NaN</td>\n",
       "    </tr>\n",
       "  </tbody>\n",
       "</table>\n",
       "</div>"
      ],
      "text/plain": [
       "            session         year country  \\\n",
       "count   7507.000000  7507.000000    7507   \n",
       "unique          NaN          NaN     199   \n",
       "top             NaN          NaN     NLD   \n",
       "freq            NaN          NaN      46   \n",
       "mean      49.610763  1994.610763     NaN   \n",
       "std       12.892155    12.892155     NaN   \n",
       "min       25.000000  1970.000000     NaN   \n",
       "25%       39.000000  1984.000000     NaN   \n",
       "50%       51.000000  1996.000000     NaN   \n",
       "75%       61.000000  2006.000000     NaN   \n",
       "max       70.000000  2015.000000     NaN   \n",
       "\n",
       "                                                     text  \n",
       "count                                                7507  \n",
       "unique                                               7507  \n",
       "top     ﻿Mr. President, your\\nelection to preside over...  \n",
       "freq                                                    1  \n",
       "mean                                                  NaN  \n",
       "std                                                   NaN  \n",
       "min                                                   NaN  \n",
       "25%                                                   NaN  \n",
       "50%                                                   NaN  \n",
       "75%                                                   NaN  \n",
       "max                                                   NaN  "
      ]
     },
     "execution_count": 4,
     "metadata": {},
     "output_type": "execute_result"
    }
   ],
   "source": [
    "debates.describe(include=\"all\")"
   ]
  },
  {
   "cell_type": "markdown",
   "metadata": {},
   "source": [
    "We have 7507 speaches, ranging from 1970 to 2015.\n",
    "\n",
    "They were spoken by representatives of 199 countries."
   ]
  },
  {
   "cell_type": "code",
   "execution_count": 5,
   "metadata": {
    "scrolled": true
   },
   "outputs": [
    {
     "data": {
      "text/plain": [
       "<matplotlib.axes._subplots.AxesSubplot at 0x13b70650>"
      ]
     },
     "execution_count": 5,
     "metadata": {},
     "output_type": "execute_result"
    },
    {
     "data": {
      "image/png": "[encoded data removed]",
      "text/plain": [
       "<matplotlib.figure.Figure at 0x13b70c30>"
      ]
     },
     "metadata": {},
     "output_type": "display_data"
    }
   ],
   "source": [
    "debates[[\"year\", \"country\"]].groupby(\"year\").count().plot(kind=\"bar\")"
   ]
  },
  {
   "cell_type": "markdown",
   "metadata": {},
   "source": [
    "It seems like more an more countries are speakers at the General Debates each year, from 1970 (70 countries) to at least 2006 (193 countries).\n",
    "This is explained, at first by the end of series of decolonization in the 70s and 80s (more countries break of from their empires to become independent countries), then by the break-up of the Soviet Union after 1989."
   ]
  },
  {
   "cell_type": "code",
   "execution_count": 6,
   "metadata": {
    "collapsed": true,
    "scrolled": true
   },
   "outputs": [],
   "source": [
    "## Text Preparation"
   ]
  },
  {
   "cell_type": "markdown",
   "metadata": {},
   "source": [
    "Some special characters are not recognized (wrong encoding), which would prevent further analysis, so let's remove them."
   ]
  },
  {
   "cell_type": "code",
   "execution_count": 7,
   "metadata": {
    "collapsed": true,
    "scrolled": true
   },
   "outputs": [],
   "source": [
    "debates['text'] = debates['text'].str.decode(encoding='ascii',errors='ignore')"
   ]
  },
  {
   "cell_type": "markdown",
   "metadata": {
    "collapsed": true
   },
   "source": [
    "Now let's transform the text to lists"
   ]
  },
  {
   "cell_type": "code",
   "execution_count": 8,
   "metadata": {
    "collapsed": true,
    "scrolled": true
   },
   "outputs": [],
   "source": [
    "debates['token'] = debates['text'].apply(word_tokenize)"
   ]
  },
  {
   "cell_type": "markdown",
   "metadata": {},
   "source": [
    "I want to find out which countries speakers mention, and will show trends in time, as well as  look at whether certain countries speak more about specific other countries. List found [here](http://www.nationsonline.org/oneworld/country_code_list.htm), and tweaked here and there for better results."
   ]
  },
  {
   "cell_type": "code",
   "execution_count": 9,
   "metadata": {
    "scrolled": true
   },
   "outputs": [
    {
     "ename": "NameError",
     "evalue": "name 'IPython' is not defined",
     "output_type": "error",
     "traceback": [
      "\u001b[1;31m---------------------------------------------------------------------------\u001b[0m",
      "\u001b[1;31mNameError\u001b[0m                                 Traceback (most recent call last)",
      "\u001b[1;32m<ipython-input-9-a1321e1d2bc3>\u001b[0m in \u001b[0;36m<module>\u001b[1;34m()\u001b[0m\n\u001b[1;32m----> 1\u001b[1;33m \u001b[0mIPython\u001b[0m\u001b[1;33m.\u001b[0m\u001b[0mload_extensions\u001b[0m\u001b[1;33m(\u001b[0m\u001b[1;34m'usability/hide_input/main'\u001b[0m\u001b[1;33m)\u001b[0m\u001b[1;33m;\u001b[0m\u001b[1;33m\u001b[0m\u001b[0m\n\u001b[0m\u001b[0;32m      2\u001b[0m countries = {\n\u001b[0;32m      3\u001b[0m     \u001b[1;34m'AFG'\u001b[0m\u001b[1;33m:\u001b[0m \u001b[1;34m'Afghanistan'\u001b[0m\u001b[1;33m,\u001b[0m\u001b[1;33m\u001b[0m\u001b[0m\n\u001b[0;32m      4\u001b[0m     \u001b[1;34m'ALA'\u001b[0m\u001b[1;33m:\u001b[0m \u001b[1;34m'Aland Islands'\u001b[0m\u001b[1;33m,\u001b[0m\u001b[1;33m\u001b[0m\u001b[0m\n\u001b[0;32m      5\u001b[0m     \u001b[1;34m'ALB'\u001b[0m\u001b[1;33m:\u001b[0m \u001b[1;34m'Albania'\u001b[0m\u001b[1;33m,\u001b[0m\u001b[1;33m\u001b[0m\u001b[0m\n",
      "\u001b[1;31mNameError\u001b[0m: name 'IPython' is not defined"
     ]
    }
   ],
   "source": [
    "IPython.load_extensions('usability/hide_input/main');\n",
    "countries = {\n",
    "    'AFG': 'Afghanistan', \n",
    "    'ALA': 'Aland Islands', \n",
    "    'ALB': 'Albania', \n",
    "    'DZA': 'Algeria', \n",
    "    'ASM': 'American Samoa', \n",
    "    'AND': 'Andorra', \n",
    "    'AGO': 'Angola', \n",
    "    'AIA': 'Anguilla', \n",
    "    'ATA': 'Antarctica', \n",
    "    'ATG': 'Antigua and Barbuda', \n",
    "    'ARG': 'Argentina', \n",
    "    'ARM': 'Armenia', \n",
    "    'ABW': 'Aruba', \n",
    "    'AUS': 'Australia', \n",
    "    'AUT': 'Austria', \n",
    "    'AZE': 'Azerbaijan', \n",
    "    'BHS': 'Bahamas', \n",
    "    'BHR': 'Bahrain', \n",
    "    'BGD': 'Bangladesh', \n",
    "    'BRB': 'Barbados', \n",
    "    'BLR': 'Belarus', \n",
    "    'BEL': 'Belgium', \n",
    "    'BLZ': 'Belize', \n",
    "    'BEN': 'Benin', \n",
    "    'BMU': 'Bermuda', \n",
    "    'BTN': 'Bhutan', \n",
    "    'BOL': 'Bolivia', \n",
    "    'BIH': 'Bosnia and Herzegovina', \n",
    "    'BWA': 'Botswana', \n",
    "    'BVT': 'Bouvet Island', \n",
    "    'BRA': 'Brazil', \n",
    "    'VGB': 'British Virgin Islands', \n",
    "    'IOT': 'British Indian Ocean Territory', \n",
    "    'BRN': 'Brunei', \n",
    "    'BGR': 'Bulgaria', \n",
    "    'BFA': 'Burkina Faso', \n",
    "    'BDI': 'Burundi', \n",
    "    'KHM': 'Cambodia', \n",
    "    'CMR': 'Cameroon', \n",
    "    'CAN': 'Canada', \n",
    "    'CPV': 'Cape Verde', \n",
    "    'CYM': 'Cayman Islands', \n",
    "    'CAF': 'Central African Republic', \n",
    "    'TCD': 'Chad', \n",
    "    'CHL': 'Chile', \n",
    "    'CHN': 'China', \n",
    "    'HKG': 'Hong Kong', \n",
    "    'MAC': 'Macao, SAR China', \n",
    "    'CXR': 'Christmas Island', \n",
    "    'CCK': 'Cocos Islands', \n",
    "    'COL': 'Colombia', \n",
    "    'COM': 'Comoros', \n",
    "    'COG': 'Congo', \n",
    "    'COD': 'Democratic Republic of Congo', \n",
    "    'COK': 'Cook Islands', \n",
    "    'CRI': 'Costa Rica', \n",
    "    'CIV': \"Côte d'Ivoire\", \n",
    "    'HRV': 'Croatia', \n",
    "    'CUB': 'Cuba', \n",
    "    'CYP': 'Cyprus', \n",
    "    'CZE': 'Czech Republic', \n",
    "    'DNK': 'Denmark', \n",
    "    'DJI': 'Djibouti', \n",
    "    'DMA': 'Dominica', \n",
    "    'DOM': 'Dominican Republic', \n",
    "    'ECU': 'Ecuador', \n",
    "    'EGY': 'Egypt', \n",
    "    'SLV': 'El Salvador', \n",
    "    'GNQ': 'Equatorial Guinea', \n",
    "    'ERI': 'Eritrea', \n",
    "    'EST': 'Estonia', \n",
    "    'ETH': 'Ethiopia', \n",
    "    'FLK': 'Falkland Islands', \n",
    "    'FRO': 'Faroe Islands', \n",
    "    'FJI': 'Fiji', \n",
    "    'FIN': 'Finland', \n",
    "    'FRA': 'France', \n",
    "    'GUF': 'French Guiana', \n",
    "    'PYF': 'French Polynesia', \n",
    "    'ATF': 'French Southern Territories', \n",
    "    'GAB': 'Gabon', \n",
    "    'GMB': 'Gambia', \n",
    "    'GEO': 'Georgia', \n",
    "    'DEU': 'Germany', \n",
    "    'GHA': 'Ghana', \n",
    "    'GIB': 'Gibraltar', \n",
    "    'GRC': 'Greece', \n",
    "    'GRL': 'Greenland', \n",
    "    'GRD': 'Grenada', \n",
    "    'GLP': 'Guadeloupe', \n",
    "    'GUM': 'Guam', \n",
    "    'GTM': 'Guatemala', \n",
    "    'GGY': 'Guernsey', \n",
    "    'GIN': 'Guinea', \n",
    "    'GNB': 'Guinea-Bissau', \n",
    "    'GUY': 'Guyana', \n",
    "    'HTI': 'Haiti', \n",
    "    'HMD': 'Heard and Mcdonald Islands', \n",
    "    'VAT': 'Vatican', \n",
    "    'HND': 'Honduras', \n",
    "    'HUN': 'Hungary', \n",
    "    'ISL': 'Iceland', \n",
    "    'IND': 'India', \n",
    "    'IDN': 'Indonesia', \n",
    "    'IRN': 'Iran', \n",
    "    'IRQ': 'Iraq', \n",
    "    'IRL': 'Ireland', \n",
    "    'IMN': 'Isle of Man', \n",
    "    'ISR': 'Israel', \n",
    "    'ITA': 'Italy', \n",
    "    'JAM': 'Jamaica', \n",
    "    'JPN': 'Japan', \n",
    "    'JEY': 'Jersey', \n",
    "    'JOR': 'Jordan', \n",
    "    'KAZ': 'Kazakhstan', \n",
    "    'KEN': 'Kenya', \n",
    "    'KIR': 'Kiribati', \n",
    "    'PRK': 'North Korea', \n",
    "    'KOR': 'South Korea', \n",
    "    'KWT': 'Kuwait', \n",
    "    'KGZ': 'Kyrgyzstan', \n",
    "    'LAO': 'Lao', \n",
    "    'LVA': 'Latvia', \n",
    "    'LBN': 'Lebanon', \n",
    "    'LSO': 'Lesotho', \n",
    "    'LBR': 'Liberia', \n",
    "    'LBY': 'Libya', \n",
    "    'LIE': 'Liechtenstein', \n",
    "    'LTU': 'Lithuania', \n",
    "    'LUX': 'Luxembourg', \n",
    "    'MKD': 'Macedonia', \n",
    "    'MDG': 'Madagascar', \n",
    "    'MWI': 'Malawi', \n",
    "    'MYS': 'Malaysia', \n",
    "    'MDV': 'Maldives', \n",
    "    'MLI': 'Mali', \n",
    "    'MLT': 'Malta', \n",
    "    'MHL': 'Marshall Islands', \n",
    "    'MTQ': 'Martinique', \n",
    "    'MRT': 'Mauritania', \n",
    "    'MUS': 'Mauritius', \n",
    "    'MYT': 'Mayotte', \n",
    "    'MEX': 'Mexico', \n",
    "    'FSM': 'Micronesia', \n",
    "    'MDA': 'Moldova', \n",
    "    'MCO': 'Monaco', \n",
    "    'MNG': 'Mongolia', \n",
    "    'MNE': 'Montenegro', \n",
    "    'MSR': 'Montserrat', \n",
    "    'MAR': 'Morocco', \n",
    "    'MOZ': 'Mozambique', \n",
    "    'MMR': 'Myanmar', \n",
    "    'NAM': 'Namibia', \n",
    "    'NRU': 'Nauru', \n",
    "    'NPL': 'Nepal', \n",
    "    'NLD': 'Netherlands', \n",
    "    'ANT': 'Netherlands Antilles', \n",
    "    'NCL': 'New Caledonia', \n",
    "    'NZL': 'New Zealand', \n",
    "    'NIC': 'Nicaragua', \n",
    "    'NER': 'Niger', \n",
    "    'NGA': 'Nigeria', \n",
    "    'NIU': 'Niue', \n",
    "    'NFK': 'Norfolk Island', \n",
    "    'MNP': 'Northern Mariana Islands', \n",
    "    'NOR': 'Norway', \n",
    "    'OMN': 'Oman', \n",
    "    'PAK': 'Pakistan', \n",
    "    'PLW': 'Palau', \n",
    "    'PSE': 'Palestine', \n",
    "    'PAN': 'Panama', \n",
    "    'PNG': 'Papua New Guinea', \n",
    "    'PRY': 'Paraguay', \n",
    "    'PER': 'Peru', \n",
    "    'PHL': 'Philippines', \n",
    "    'PCN': 'Pitcairn', \n",
    "    'POL': 'Poland', \n",
    "    'PRT': 'Portugal', \n",
    "    'PRI': 'Puerto Rico', \n",
    "    'QAT': 'Qatar', \n",
    "    'REU': 'Réunion', \n",
    "    'ROU': 'Romania', \n",
    "    'RUS': 'Russia', \n",
    "    'RWA': 'Rwanda', \n",
    "    'BLM': 'Saint-Barthélemy', \n",
    "    'SHN': 'Saint Helena', \n",
    "    'KNA': 'Saint Kitts and Nevis', \n",
    "    'LCA': 'Saint Lucia', \n",
    "    'MAF': 'Saint-Martin', \n",
    "    'SPM': 'Saint Pierre and Miquelon', \n",
    "    'VCT': 'Saint Vincent and Grenadines', \n",
    "    'WSM': 'Samoa', \n",
    "    'SMR': 'San Marino', \n",
    "    'STP': 'Sao Tome and Principe', \n",
    "    'SAU': 'Saudi Arabia', \n",
    "    'SEN': 'Senegal', \n",
    "    'SRB': 'Serbia', \n",
    "    'SYC': 'Seychelles', \n",
    "    'SLE': 'Sierra Leone', \n",
    "    'SGP': 'Singapore', \n",
    "    'SVK': 'Slovakia', \n",
    "    'SVN': 'Slovenia', \n",
    "    'SLB': 'Solomon Islands', \n",
    "    'SOM': 'Somalia', \n",
    "    'ZAF': 'South Africa', \n",
    "    'SGS': 'South Georgia and the South Sandwich Islands', \n",
    "    'SSD': 'South Sudan', \n",
    "    'ESP': 'Spain', \n",
    "    'LKA': 'Sri Lanka', \n",
    "    'SDN': 'Sudan', \n",
    "    'SUR': 'Suriname', \n",
    "    'SJM': 'Svalbard and Jan Mayen Islands', \n",
    "    'SWZ': 'Swaziland', \n",
    "    'SWE': 'Sweden', \n",
    "    'CHE': 'Switzerland', \n",
    "    'SYR': 'Syria', \n",
    "    'TWN': 'Taiwan', \n",
    "    'TJK': 'Tajikistan', \n",
    "    'TZA': 'Tanzania', \n",
    "    'THA': 'Thailand', \n",
    "    'TLS': 'Timor-Leste', \n",
    "    'TGO': 'Togo', \n",
    "    'TKL': 'Tokelau', \n",
    "    'TON': 'Tonga', \n",
    "    'TTO': 'Trinidad and Tobago', \n",
    "    'TUN': 'Tunisia', \n",
    "    'TUR': 'Turkey', \n",
    "    'TKM': 'Turkmenistan', \n",
    "    'TCA': 'Turks and Caicos Islands', \n",
    "    'TUV': 'Tuvalu', \n",
    "    'UGA': 'Uganda', \n",
    "    'UKR': 'Ukraine', \n",
    "    'ARE': 'United Arab Emirates', \n",
    "    'GBR': 'United Kingdom', \n",
    "    'USA': 'United States of America', \n",
    "    'UMI': 'US Minor Outlying Islands', \n",
    "    'URY': 'Uruguay', \n",
    "    'UZB': 'Uzbekistan', \n",
    "    'VUT': 'Vanuatu', \n",
    "    'VEN': 'Venezuela', \n",
    "    'VNM': 'Viet Nam', \n",
    "    'VIR': 'Virgin Islands', \n",
    "    'WLF': 'Wallis and Futuna Islands', \n",
    "    'ESH': 'Western Sahara', \n",
    "    'YEM': 'Yemen', \n",
    "    'ZMB': 'Zambia', \n",
    "    'ZWE': 'Zimbabwe'\n",
    "}"
   ]
  },
  {
   "cell_type": "code",
   "execution_count": null,
   "metadata": {
    "collapsed": true,
    "scrolled": true
   },
   "outputs": [],
   "source": [
    "debates['countries_mentioned'] = debates['token'].apply(lambda token: {x:token.count(x) for x in token if x.encode('utf8') in countries.values()})"
   ]
  },
  {
   "cell_type": "markdown",
   "metadata": {},
   "source": [
    "I'll now save this in a table for study and display"
   ]
  },
  {
   "cell_type": "code",
   "execution_count": null,
   "metadata": {
    "scrolled": true
   },
   "outputs": [],
   "source": [
    "country_mentions = pd.concat([debates[[\"year\", \"country\"]],\n",
    "                              debates['countries_mentioned'].apply(pd.Series)], axis=1).dropna(axis=1, how='all')\n",
    "country_mentions['country'] = country_mentions['country'].apply(lambda x: countries.get(x))\n",
    "country_mentions.head()"
   ]
  },
  {
   "cell_type": "code",
   "execution_count": null,
   "metadata": {
    "scrolled": true
   },
   "outputs": [],
   "source": [
    "import plotly.plotly as py\n",
    "import plotly.figure_factory as ff\n",
    "\n",
    "table = ff.create_table(country_mentions)\n",
    "py.iplot(table, filename='table')"
   ]
  },
  {
   "cell_type": "markdown",
   "metadata": {},
   "source": [
    "This table is a little too long and large to make sense out of it. Let's group it by year to extract the trend, and by country to get the speaking country info."
   ]
  },
  {
   "cell_type": "code",
   "execution_count": null,
   "metadata": {
    "scrolled": true
   },
   "outputs": [],
   "source": [
    "#country_mentions_by_year = country_mentions.groupby(country_mentions.columns[2:])['year'].sum()\n",
    "country_mentions_by_country = country_mentions.groupby(\"country\")[[country_mentions.columns[2:]]].sum()\n",
    "country_mentions_by_country"
   ]
  },
  {
   "cell_type": "markdown",
   "metadata": {},
   "source": [
    "We need to remove the punctuation and english stopwords to only keep the essence of the text."
   ]
  },
  {
   "cell_type": "code",
   "execution_count": null,
   "metadata": {
    "collapsed": true,
    "scrolled": true
   },
   "outputs": [],
   "source": [
    "stop_words = set(stopwords.words('english'))\n",
    "debates['clean'] = debates['token'].apply(lambda x: [w for w in x if not w in stop_words and not w in punctuation])"
   ]
  },
  {
   "cell_type": "markdown",
   "metadata": {},
   "source": [
    "Let's extract the entities (organizations, persons, etc.) speakers are referring to."
   ]
  },
  {
   "cell_type": "code",
   "execution_count": null,
   "metadata": {
    "collapsed": true,
    "scrolled": true
   },
   "outputs": [],
   "source": []
  },
  {
   "cell_type": "code",
   "execution_count": null,
   "metadata": {
    "collapsed": true,
    "scrolled": true
   },
   "outputs": [],
   "source": [
    "debates['entities'] = debates['clean'].apply(lambda x: nltk.ne_chunk(nltk.pos_tag(x), binary=False))"
   ]
  },
  {
   "cell_type": "code",
   "execution_count": null,
   "metadata": {
    "collapsed": true,
    "scrolled": true
   },
   "outputs": [],
   "source": [
    "debates['entities'][0].draw()"
   ]
  },
  {
   "cell_type": "code",
   "execution_count": null,
   "metadata": {
    "collapsed": true,
    "scrolled": true
   },
   "outputs": [],
   "source": [
    "#nltk.ne_chunk(nltk.pos_tag(debates['clean'][0]), binary=False).draw()\n",
    "\n",
    "tagged = nltk.pos_tag(debates['clean'][0])\n",
    "namedEnt = nltk.ne_chunk(tagged, binary=False)\n",
    "namedEnt.draw()"
   ]
  },
  {
   "cell_type": "code",
   "execution_count": null,
   "metadata": {
    "collapsed": true,
    "scrolled": false
   },
   "outputs": [],
   "source": [
    "namedEnt"
   ]
  }
 ],
 "metadata": {
  "kernelspec": {
   "display_name": "Python 2",
   "language": "python",
   "name": "python2"
  },
  "language_info": {
   "codemirror_mode": {
    "name": "ipython",
    "version": 2
   },
   "file_extension": ".py",
   "mimetype": "text/x-python",
   "name": "python",
   "nbconvert_exporter": "python",
   "pygments_lexer": "ipython2",
   "version": "2.7.13"
  }
 },
 "nbformat": 4,
 "nbformat_minor": 2
}
